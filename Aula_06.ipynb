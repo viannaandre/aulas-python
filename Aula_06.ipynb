{
  "nbformat": 4,
  "nbformat_minor": 0,
  "metadata": {
    "kernelspec": {
      "display_name": "Python 3",
      "language": "python",
      "name": "python3"
    },
    "language_info": {
      "codemirror_mode": {
        "name": "ipython",
        "version": 3
      },
      "file_extension": ".py",
      "mimetype": "text/x-python",
      "name": "python",
      "nbconvert_exporter": "python",
      "pygments_lexer": "ipython3",
      "version": "3.9.0"
    },
    "colab": {
      "name": "Aula 06.ipynb",
      "provenance": [],
      "include_colab_link": true
    }
  },
  "cells": [
    {
      "cell_type": "markdown",
      "metadata": {
        "id": "view-in-github",
        "colab_type": "text"
      },
      "source": [
        "<a href=\"https://colab.research.google.com/github/viannaandre/aulas-python/blob/1_Basics/Aula_06.ipynb\" target=\"_parent\"><img src=\"https://colab.research.google.com/assets/colab-badge.svg\" alt=\"Open In Colab\"/></a>"
      ]
    },
    {
      "cell_type": "code",
      "metadata": {
        "id": "LuzQqRp7dxO4",
        "outputId": "bf7986fb-6523-4269-f27b-6089cbd28661"
      },
      "source": [
        "contador = 0\n",
        "\n",
        "while contador < 10:\n",
        "    contador = contador + 1\n",
        "    if contador == 1:\n",
        "        print(contador, \"item limpo\")\n",
        "    else:\n",
        "        print(contador, \"itens limpos\")\n",
        "print (\"Fim da repetição do bloco while\")"
      ],
      "execution_count": null,
      "outputs": [
        {
          "name": "stdout",
          "output_type": "stream",
          "text": [
            "1 item limpo\n",
            "2 itens limpos\n",
            "3 itens limpos\n",
            "4 itens limpos\n",
            "5 itens limpos\n",
            "6 itens limpos\n",
            "7 itens limpos\n",
            "8 itens limpos\n",
            "9 itens limpos\n",
            "10 itens limpos\n",
            "Fim da repetição do bloco while\n"
          ]
        }
      ]
    },
    {
      "cell_type": "code",
      "metadata": {
        "id": "yQXKM7aTdxPA"
      },
      "source": [
        "contador = 0\n",
        "\n",
        "while True: ## no exemplo criado loop infinito\n",
        "    if contador < 10:\n",
        "        contador = contador + 1\n",
        "        if contador == 1:\n",
        "            print(contador, \"item limpo\")\n",
        "        else:\n",
        "            print(contador, \"itens limpos\")\n",
        "    else:\n",
        "        break ## para o último loop\n",
        "print (\"Fim da repetição do bloco while\")"
      ],
      "execution_count": null,
      "outputs": []
    },
    {
      "cell_type": "code",
      "metadata": {
        "id": "hoJwnteodxPB",
        "outputId": "d4f8d957-4e9d-402a-d4eb-f7638ed38a05"
      },
      "source": [
        "texto = input('Digite a sua senha: ')\n",
        "\n",
        "while texto != 'LetsCode':\n",
        "    texto = input('Senha inválida. Tente novamente')\n",
        "\n",
        "    print('Acesso permitido')"
      ],
      "execution_count": null,
      "outputs": [
        {
          "name": "stdout",
          "output_type": "stream",
          "text": [
            "Digite a sua senha: Letscode\n",
            "Senha inválida. Tente novamenteLets Code\n",
            "Acesso permitido\n",
            "Senha inválida. Tente novamenteLetsCode\n",
            "Acesso permitido\n"
          ]
        }
      ]
    },
    {
      "cell_type": "code",
      "metadata": {
        "id": "E3IaDUWFdxPC"
      },
      "source": [
        "contador = 0\n",
        "\n",
        "while contador < 10:\n",
        "    contador = contador + 1\n",
        "    if contador == 1:\n",
        "        continue\n",
        "    print(contador, \"itens limpo\")\n",
        "    \n",
        "print (\"Fim da repetição do bloco while\")"
      ],
      "execution_count": null,
      "outputs": []
    },
    {
      "cell_type": "code",
      "metadata": {
        "id": "87lh5-7tdxPD"
      },
      "source": [
        ""
      ],
      "execution_count": null,
      "outputs": []
    }
  ]
}