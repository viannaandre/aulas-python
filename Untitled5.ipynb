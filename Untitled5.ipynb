{
  "nbformat": 4,
  "nbformat_minor": 0,
  "metadata": {
    "kernelspec": {
      "display_name": "Python 3",
      "language": "python",
      "name": "python3"
    },
    "language_info": {
      "codemirror_mode": {
        "name": "ipython",
        "version": 3
      },
      "file_extension": ".py",
      "mimetype": "text/x-python",
      "name": "python",
      "nbconvert_exporter": "python",
      "pygments_lexer": "ipython3",
      "version": "3.9.0"
    },
    "colab": {
      "name": "Untitled5.ipynb",
      "provenance": [],
      "include_colab_link": true
    }
  },
  "cells": [
    {
      "cell_type": "markdown",
      "metadata": {
        "id": "view-in-github",
        "colab_type": "text"
      },
      "source": [
        "<a href=\"https://colab.research.google.com/github/viannaandre/aulas-python/blob/1_Basics/Untitled5.ipynb\" target=\"_parent\"><img src=\"https://colab.research.google.com/assets/colab-badge.svg\" alt=\"Open In Colab\"/></a>"
      ]
    },
    {
      "cell_type": "code",
      "metadata": {
        "id": "siZrkMqdfTQg",
        "outputId": "090837c6-41c1-4a07-8375-eca10f5d94a3"
      },
      "source": [
        "i = 1\n",
        "while True: \n",
        "    if i % 3 == 0: \n",
        "        break\n",
        "    print(i) \n",
        "    i = i + 1"
      ],
      "execution_count": null,
      "outputs": [
        {
          "name": "stdout",
          "output_type": "stream",
          "text": [
            "1\n",
            "2\n"
          ]
        }
      ]
    },
    {
      "cell_type": "code",
      "metadata": {
        "id": "k70-laYAfTQn"
      },
      "source": [
        "i = 1\n",
        "while True: \n",
        "    if i % 3 == 0: \n",
        "        break\n",
        "    print(i) \n",
        "    i = i + 1"
      ],
      "execution_count": null,
      "outputs": []
    }
  ]
}