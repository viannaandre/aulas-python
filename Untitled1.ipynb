{
  "nbformat": 4,
  "nbformat_minor": 0,
  "metadata": {
    "kernelspec": {
      "display_name": "Python 3",
      "language": "python",
      "name": "python3"
    },
    "language_info": {
      "codemirror_mode": {
        "name": "ipython",
        "version": 3
      },
      "file_extension": ".py",
      "mimetype": "text/x-python",
      "name": "python",
      "nbconvert_exporter": "python",
      "pygments_lexer": "ipython3",
      "version": "3.9.0"
    },
    "colab": {
      "name": "Untitled1.ipynb",
      "provenance": [],
      "include_colab_link": true
    }
  },
  "cells": [
    {
      "cell_type": "markdown",
      "metadata": {
        "id": "view-in-github",
        "colab_type": "text"
      },
      "source": [
        "<a href=\"https://colab.research.google.com/github/viannaandre/aulas-python/blob/1_Basics/Untitled1.ipynb\" target=\"_parent\"><img src=\"https://colab.research.google.com/assets/colab-badge.svg\" alt=\"Open In Colab\"/></a>"
      ]
    },
    {
      "cell_type": "code",
      "metadata": {
        "id": "d9XsI5eZezdr"
      },
      "source": [
        "x = 50\n",
        "y = 2"
      ],
      "execution_count": null,
      "outputs": []
    },
    {
      "cell_type": "code",
      "metadata": {
        "id": "OHYR1AXRezdx",
        "outputId": "1f505c87-d392-423b-acef-e95b1e159cbb"
      },
      "source": [
        "print (x + y)\n",
        "print (x - y)\n",
        "print (x * y)\n",
        "print (x / y)"
      ],
      "execution_count": null,
      "outputs": [
        {
          "name": "stdout",
          "output_type": "stream",
          "text": [
            "52\n",
            "48\n",
            "100\n",
            "25.0\n"
          ]
        }
      ]
    },
    {
      "cell_type": "code",
      "metadata": {
        "id": "JGW_RQDiezdz",
        "outputId": "76a55742-f9f3-4a26-bdec-449857633068"
      },
      "source": [
        "print (x ** y) ## exponenciaçao\n",
        "print (x // y) ## divisao inteira - ignora a parte decimal\n",
        "print (x % y)  ## resto da divisao"
      ],
      "execution_count": null,
      "outputs": [
        {
          "name": "stdout",
          "output_type": "stream",
          "text": [
            "2500\n",
            "25\n",
            "0\n"
          ]
        }
      ]
    },
    {
      "cell_type": "code",
      "metadata": {
        "id": "QDUwkC_sezd1",
        "outputId": "99555425-2d93-48dc-e929-e5c4708e1745"
      },
      "source": [
        "print (3 / 4) ## divisao normal\n",
        "print (3 // 4) ## divisao inteira"
      ],
      "execution_count": null,
      "outputs": [
        {
          "name": "stdout",
          "output_type": "stream",
          "text": [
            "0.75\n",
            "0\n"
          ]
        }
      ]
    },
    {
      "cell_type": "code",
      "metadata": {
        "id": "WMno_UfOezd2"
      },
      "source": [
        "tem_cafe = True\n",
        "tem_pao = False"
      ],
      "execution_count": null,
      "outputs": []
    },
    {
      "cell_type": "code",
      "metadata": {
        "id": "1ysXjqNQezd3",
        "outputId": "6941f09f-06e4-47ee-b788-d5d93771b99d"
      },
      "source": [
        "print(not tem_cafe)\n",
        "print(tem_cafe or tem_pao)\n",
        "print(tem_cafe and tem_pao)"
      ],
      "execution_count": null,
      "outputs": [
        {
          "name": "stdout",
          "output_type": "stream",
          "text": [
            "False\n",
            "True\n",
            "False\n"
          ]
        }
      ]
    },
    {
      "cell_type": "code",
      "metadata": {
        "id": "e0aUM57xezd4"
      },
      "source": [
        ""
      ],
      "execution_count": null,
      "outputs": []
    }
  ]
}