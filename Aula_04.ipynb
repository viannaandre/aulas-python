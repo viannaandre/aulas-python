{
  "nbformat": 4,
  "nbformat_minor": 0,
  "metadata": {
    "kernelspec": {
      "display_name": "Python 3",
      "language": "python",
      "name": "python3"
    },
    "language_info": {
      "codemirror_mode": {
        "name": "ipython",
        "version": 3
      },
      "file_extension": ".py",
      "mimetype": "text/x-python",
      "name": "python",
      "nbconvert_exporter": "python",
      "pygments_lexer": "ipython3",
      "version": "3.9.0"
    },
    "colab": {
      "name": "Aula 04.ipynb",
      "provenance": [],
      "include_colab_link": true
    }
  },
  "cells": [
    {
      "cell_type": "markdown",
      "metadata": {
        "id": "view-in-github",
        "colab_type": "text"
      },
      "source": [
        "<a href=\"https://colab.research.google.com/github/viannaandre/aulas-python/blob/1_Basics/Aula_04.ipynb\" target=\"_parent\"><img src=\"https://colab.research.google.com/assets/colab-badge.svg\" alt=\"Open In Colab\"/></a>"
      ]
    },
    {
      "cell_type": "code",
      "metadata": {
        "id": "GFsCYA0VdfQP",
        "outputId": "632ea32b-b72a-4090-b789-db7e06d76127"
      },
      "source": [
        "idade = input(\"Informe a sua idade: \")\n",
        "print(idade, type(idade))"
      ],
      "execution_count": null,
      "outputs": [
        {
          "name": "stdout",
          "output_type": "stream",
          "text": [
            "Informe a sua idade: 42\n",
            "42 <class 'str'>\n"
          ]
        }
      ]
    },
    {
      "cell_type": "code",
      "metadata": {
        "id": "Jk4oTE62dfQd",
        "outputId": "52e5154e-7e8e-43fb-c13d-9bba574ec447"
      },
      "source": [
        "idade = int(idade)\n",
        "print(idade, type(idade))"
      ],
      "execution_count": null,
      "outputs": [
        {
          "name": "stdout",
          "output_type": "stream",
          "text": [
            "42 <class 'int'>\n"
          ]
        }
      ]
    },
    {
      "cell_type": "code",
      "metadata": {
        "id": "VmRss7Y1dfQf",
        "outputId": "a4fbedb6-8d4a-44f9-e973-189e880ba370"
      },
      "source": [
        "int('123abc')"
      ],
      "execution_count": null,
      "outputs": [
        {
          "ename": "ValueError",
          "evalue": "invalid literal for int() with base 10: '123abc'",
          "output_type": "error",
          "traceback": [
            "\u001b[1;31m---------------------------------------------------------------------------\u001b[0m",
            "\u001b[1;31mValueError\u001b[0m                                Traceback (most recent call last)",
            "\u001b[1;32m<ipython-input-3-c2da6a9db439>\u001b[0m in \u001b[0;36m<module>\u001b[1;34m\u001b[0m\n\u001b[1;32m----> 1\u001b[1;33m \u001b[0mint\u001b[0m\u001b[1;33m(\u001b[0m\u001b[1;34m'123abc'\u001b[0m\u001b[1;33m)\u001b[0m\u001b[1;33m\u001b[0m\u001b[1;33m\u001b[0m\u001b[0m\n\u001b[0m",
            "\u001b[1;31mValueError\u001b[0m: invalid literal for int() with base 10: '123abc'"
          ]
        }
      ]
    },
    {
      "cell_type": "code",
      "metadata": {
        "id": "4HyvkNhJdfQh",
        "outputId": "330d2a89-363d-4e30-8c22-902479bcb181"
      },
      "source": [
        "print(float(\"123.25\"))\n",
        "print(str(123.25))\n",
        "print(bool(''))\n",
        "print(bool('abc'))\n",
        "print(bool(0))\n",
        "print(bool(-2))"
      ],
      "execution_count": null,
      "outputs": [
        {
          "name": "stdout",
          "output_type": "stream",
          "text": [
            "123.25\n",
            "123.25\n",
            "False\n",
            "True\n",
            "False\n",
            "True\n"
          ]
        }
      ]
    },
    {
      "cell_type": "code",
      "metadata": {
        "id": "ATnx5ZPkdfQi",
        "outputId": "c6a92f74-a68c-4cab-fd77-0f0b5436c3fb"
      },
      "source": [
        "salario_mensal = input ('Digite o valor do seu salario mensal: ')\n",
        "salario_mensal = float(salario_mensal)\n",
        "\n",
        "gasto_mensal = input ('Digite o valor do seu gasto mensal em média: ')\n",
        "gasto_mensal = float(gasto_mensal)\n",
        "\n",
        "salario_total = salario_mensal * 12\n",
        "gasto_total = gasto_mensal * 12\n",
        "montante_economizado = salario_total - gasto_total\n",
        "print('O montante que você pode economizar ao fim do ano é de:', montante_economizado)"
      ],
      "execution_count": null,
      "outputs": [
        {
          "name": "stdout",
          "output_type": "stream",
          "text": [
            "Digite o valor do seu salario mensal: 5000\n",
            "Digite o valor do seu gasto mensal em média: 2000\n",
            "O montante que você pode economizar ao fim do ano é de: 36000.0\n"
          ]
        }
      ]
    },
    {
      "cell_type": "code",
      "metadata": {
        "id": "TYfwRAMhdfQj"
      },
      "source": [
        ""
      ],
      "execution_count": null,
      "outputs": []
    }
  ]
}