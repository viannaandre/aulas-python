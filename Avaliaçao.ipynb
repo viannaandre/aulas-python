{
  "nbformat": 4,
  "nbformat_minor": 0,
  "metadata": {
    "kernelspec": {
      "display_name": "Python 3",
      "language": "python",
      "name": "python3"
    },
    "language_info": {
      "codemirror_mode": {
        "name": "ipython",
        "version": 3
      },
      "file_extension": ".py",
      "mimetype": "text/x-python",
      "name": "python",
      "nbconvert_exporter": "python",
      "pygments_lexer": "ipython3",
      "version": "3.9.0"
    },
    "colab": {
      "name": "Avaliaçao.ipynb",
      "provenance": [],
      "include_colab_link": true
    }
  },
  "cells": [
    {
      "cell_type": "markdown",
      "metadata": {
        "id": "view-in-github",
        "colab_type": "text"
      },
      "source": [
        "<a href=\"https://colab.research.google.com/github/viannaandre/aulas-python/blob/1_Basics/Avalia%C3%A7ao.ipynb\" target=\"_parent\"><img src=\"https://colab.research.google.com/assets/colab-badge.svg\" alt=\"Open In Colab\"/></a>"
      ]
    },
    {
      "cell_type": "code",
      "metadata": {
        "id": "wwZcyOBmd5v3"
      },
      "source": [
        "## Faça um programa que peça um valor monetário e diminua-o em 15%. \n",
        "## Seu programa deve imprimir a mensagem “O novo valor é [valor]”.\n",
        "\n",
        "valor = float(input('Informe o valor: '))\n",
        "\n",
        "conta = valor - (valor * 0.15)\n",
        "\n",
        "print('Novo valor é ', conta)"
      ],
      "execution_count": null,
      "outputs": []
    },
    {
      "cell_type": "code",
      "metadata": {
        "id": "Oi2dV7RFd5v-",
        "outputId": "510cd8d4-1096-46a5-9e32-8dcb06d96534"
      },
      "source": [
        "## Faça um programa que leia a validade das informações:\n",
        "## a. Idade: entre 0 e 150;\n",
        "## b. Salário: maior que 0;\n",
        "## c. Sexo: M, F ou Outro;\n",
        "## O programa deve imprimir uma mensagem de erro para cada informação inválida.\n",
        "\n",
        "\n",
        "i = 1\n",
        "s = 1\n",
        "sx = 1\n",
        "idade = 151\n",
        "salario = 1\n",
        "sexo = 0\n",
        "while i > 0:\n",
        "    idade = int(input('Informe a idade de 0 a 150 anos: '))\n",
        "    if idade < 0:\n",
        "        print ('Informe idade válida')\n",
        "        i = 1\n",
        "    elif idade > 150:\n",
        "        print ('Informe idade válida')\n",
        "        i = 1\n",
        "    else:\n",
        "        i = 0\n",
        "while s > 0:\n",
        "    salario = float(input('Informe o salario: '))\n",
        "    if salario < 0:\n",
        "        print ('Informe salário válido')\n",
        "        s = 1\n",
        "    else:\n",
        "        s = 0\n",
        "while sx > 0:\n",
        "    sexo = input('Escolha o Sexo: M, F ou Outro')\n",
        "    if sexo == 'M' or sexo == 'F' or sexo == 'Outro':\n",
        "        sx = 0\n",
        "    else:\n",
        "        print ('Opção inválida')\n",
        "print(\"Sua idade é\", idade, \"anos. \\n\",\"Seu salário: \", salario, \"reais \\n\",\"Sexo: \", sexo)"
      ],
      "execution_count": null,
      "outputs": [
        {
          "name": "stdout",
          "output_type": "stream",
          "text": [
            "Informe a idade de 0 a 150 anos: 150\n",
            "Informe o salario: 10\n",
            "Escolha o Sexo: M, F ou OutroM\n",
            "Sua idade é 150 anos. \n",
            " Seu salário:  10.0 reais \n",
            " Sexo:  M\n"
          ]
        }
      ]
    },
    {
      "cell_type": "code",
      "metadata": {
        "id": "xW5iBN07d5wA",
        "outputId": "2544b543-53d0-4cd3-d559-4000510fbe56"
      },
      "source": [
        "## Vamos fazer um programa para verificar quem é o assassino de um crime. \n",
        "## Para descobrir o assassino, a polícia faz um pequeno questionário com 5 perguntas onde a resposta só pode ser sim ou não:\n",
        "## a. Mora perto da vítima?\n",
        "## b. Já trabalhou com a vítima?\n",
        "## c. Telefonou para a vítima?\n",
        "## d. Esteve no local do crime?\n",
        "## e. Devia para a vítima?\n",
        "## Cada resposta sim dá um ponto para o suspeito. A polícia considera que os suspeitos com 5 pontos são os assassinos, com 4 a 3 pontos são cúmplices e 2 pontos são apenas suspeitos, necessitando outras investigações. Valores iguais ou abaixo de 1 são liberados.\n",
        "\n",
        "r1 = 0\n",
        "r2 = 0\n",
        "r3 = 0\n",
        "r4 = 0\n",
        "r5 = 0\n",
        "print(\"Responda as perguntas a seguir conforme opções: \")\n",
        "while r1 == 0 or r1 > 2:\n",
        "    print(\"Mora perto da vítima? \")\n",
        "    r1 = int(input(\"1 - Sim ou 2 - NAO\"))\n",
        "    if r1 == 1:\n",
        "        a1 = 1\n",
        "    elif r1 == 2 :\n",
        "        a1 = 0\n",
        "    else:\n",
        "        print('Opção inválida')\n",
        "while r2 == 0 or r2 > 2:\n",
        "    print (\"Já trabalhou com a vítima? \")\n",
        "    r2 = int(input(\"1 - Sim ou 2 - NAO\"))\n",
        "    if r2 == 1:\n",
        "        a2 = 1\n",
        "    elif r2 == 2 :\n",
        "        a2 = 0\n",
        "    else:\n",
        "        print('Opção inválida')\n",
        "while r3 == 0 or r3 > 2:\n",
        "    print (\"Telefonou para a vítima? \")\n",
        "    r3 = int(input(\"1 - Sim ou 2 - NAO\"))\n",
        "    if r3 == 1:\n",
        "        a3 = 1\n",
        "    elif r3 == 2 :\n",
        "        a3 = 0\n",
        "    else:\n",
        "        print('Opção inválida')\n",
        "while r4 == 0 or r4 > 2:\n",
        "    print (\"Esteve no local do crime? \")\n",
        "    r4 = int(input(\"1 - Sim ou 2 - NAO\"))\n",
        "    if r4 == 1:\n",
        "        a4 = 1\n",
        "    elif r4 == 2 :\n",
        "        a4 = 0\n",
        "    else:\n",
        "        print('Opção inválida')  \n",
        "while r5 == 0 or r5 > 2:\n",
        "    print (\"Devia para a vítima? \")\n",
        "    r5 = int(input(\"1 - Sim ou 2 - NAO\"))\n",
        "    if r5 == 1:\n",
        "        a5 = 1\n",
        "    elif r5 == 2 :\n",
        "        a5 = 0\n",
        "    else:\n",
        "        print('Opção inválida')\n",
        "        \n",
        "soma = a1 + a2 + a3 + a4 + a5\n",
        "if soma == 5:\n",
        "    print ('Assassino')\n",
        "elif soma == 4 or soma == 3:\n",
        "    print ('Cumplice')\n",
        "elif soma == 2:\n",
        "    print ('Suspeito. Necessita outras investigações')\n",
        "else:\n",
        "    print ('Liberado')\n",
        "\n",
        "\n",
        "        "
      ],
      "execution_count": null,
      "outputs": [
        {
          "name": "stdout",
          "output_type": "stream",
          "text": [
            "Responda as perguntas a seguir conforme opções: \n",
            "Mora perto da vítima? \n",
            "1 - Sim ou 2 - NAO2\n",
            "Já trabalhou com a vítima? \n",
            "1 - Sim ou 2 - NAO2\n",
            "Telefonou para a vítima? \n",
            "1 - Sim ou 2 - NAO2\n",
            "Esteve no local do crime? \n",
            "1 - Sim ou 2 - NAO2\n",
            "Devia para a vítima? \n",
            "1 - Sim ou 2 - NAO2\n",
            "Liberado\n"
          ]
        }
      ]
    },
    {
      "cell_type": "code",
      "metadata": {
        "id": "e_faAiesd5wD",
        "outputId": "53b10872-1852-418c-9dee-6272eacc3a78"
      },
      "source": [
        "## Tabuada do nove\n",
        "## Faça um programa que imprima a tabuada do 9 (de 9*1 a 9*10) usando loops.\n",
        "i = 1\n",
        "while i < 11:\n",
        "    a = 9 * i\n",
        "    print (\"9 x\", i, \"=\", a)\n",
        "    i += 1\n",
        "    "
      ],
      "execution_count": null,
      "outputs": [
        {
          "name": "stdout",
          "output_type": "stream",
          "text": [
            "9 x 1 = 9\n",
            "9 x 2 = 18\n",
            "9 x 3 = 27\n",
            "9 x 4 = 36\n",
            "9 x 5 = 45\n",
            "9 x 6 = 54\n",
            "9 x 7 = 63\n",
            "9 x 8 = 72\n",
            "9 x 9 = 81\n",
            "9 x 10 = 90\n"
          ]
        }
      ]
    },
    {
      "cell_type": "code",
      "metadata": {
        "id": "xkQphEtrd5wE",
        "outputId": "866caf75-334a-4d61-921c-e9ecf1759163"
      },
      "source": [
        "## Faça um programa que recebe um número inteiro do usuário e imprime na tela a quantidade de divisores \n",
        "## desse número e quais são eles.\n",
        "\n",
        "n = int(input(\"Informe um número inteiro: \"))\n",
        "div = 0\n",
        "i = 1\n",
        "print('os divisores são :') \n",
        "while i < n:\n",
        "    r = n%i\n",
        "    if r == 0:\n",
        "        print(i)\n",
        "        div += 1\n",
        "    i += 1\n",
        "print(\"A quantidade de divisores dessse número é: \", div)\n",
        "        \n",
        "\n",
        "        \n",
        "    "
      ],
      "execution_count": null,
      "outputs": [
        {
          "name": "stdout",
          "output_type": "stream",
          "text": [
            "Informe um número inteiro: 10\n",
            "os divisores são :\n",
            "1\n",
            "2\n",
            "5\n",
            "A quantidade de divisores dessse número é:  3\n"
          ]
        }
      ]
    },
    {
      "cell_type": "code",
      "metadata": {
        "id": "HjSEvTwUd5wF"
      },
      "source": [
        ""
      ],
      "execution_count": null,
      "outputs": []
    }
  ]
}