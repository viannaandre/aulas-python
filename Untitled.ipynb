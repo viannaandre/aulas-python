{
  "nbformat": 4,
  "nbformat_minor": 0,
  "metadata": {
    "kernelspec": {
      "display_name": "Python 3",
      "language": "python",
      "name": "python3"
    },
    "language_info": {
      "codemirror_mode": {
        "name": "ipython",
        "version": 3
      },
      "file_extension": ".py",
      "mimetype": "text/x-python",
      "name": "python",
      "nbconvert_exporter": "python",
      "pygments_lexer": "ipython3",
      "version": "3.9.0"
    },
    "colab": {
      "name": "Untitled.ipynb",
      "provenance": [],
      "include_colab_link": true
    }
  },
  "cells": [
    {
      "cell_type": "markdown",
      "metadata": {
        "id": "view-in-github",
        "colab_type": "text"
      },
      "source": [
        "<a href=\"https://colab.research.google.com/github/viannaandre/aulas-python/blob/1_Basics/Untitled.ipynb\" target=\"_parent\"><img src=\"https://colab.research.google.com/assets/colab-badge.svg\" alt=\"Open In Colab\"/></a>"
      ]
    },
    {
      "cell_type": "code",
      "metadata": {
        "id": "VRV7L3afer62"
      },
      "source": [
        "x = 5 ## = eh operador de atribuiçao"
      ],
      "execution_count": null,
      "outputs": []
    },
    {
      "cell_type": "code",
      "metadata": {
        "id": "SyO4U45Ler68",
        "outputId": "8f8c7f5e-ee64-4eeb-da39-b03b383c98fb"
      },
      "source": [
        "print(x)"
      ],
      "execution_count": null,
      "outputs": [
        {
          "name": "stdout",
          "output_type": "stream",
          "text": [
            "5\n"
          ]
        }
      ]
    },
    {
      "cell_type": "code",
      "metadata": {
        "id": "cWCAzY8Ger6-",
        "outputId": "66c49176-0705-4792-8eeb-a6ba9df9b0d6"
      },
      "source": [
        "print(type(x))"
      ],
      "execution_count": null,
      "outputs": [
        {
          "name": "stdout",
          "output_type": "stream",
          "text": [
            "<class 'int'>\n"
          ]
        }
      ]
    },
    {
      "cell_type": "code",
      "metadata": {
        "id": "6YuZS64Rer6_",
        "outputId": "92ab2f4c-d77c-4aea-a3b1-e6deab8d0957"
      },
      "source": [
        "type(x)"
      ],
      "execution_count": null,
      "outputs": [
        {
          "data": {
            "text/plain": [
              "int"
            ]
          },
          "execution_count": 4,
          "metadata": {},
          "output_type": "execute_result"
        }
      ]
    },
    {
      "cell_type": "code",
      "metadata": {
        "id": "tSrq_SNger7A",
        "outputId": "038d8aa3-4379-430b-c38d-580c3d7a6b80"
      },
      "source": [
        "preco = 19.99\n",
        "print(preco, type(preco))"
      ],
      "execution_count": null,
      "outputs": [
        {
          "name": "stdout",
          "output_type": "stream",
          "text": [
            "19.99 <class 'float'>\n"
          ]
        }
      ]
    },
    {
      "cell_type": "code",
      "metadata": {
        "id": "Fa5KL4o4er7B",
        "outputId": "810a76cc-f8c6-4185-b676-29631e9f80d9"
      },
      "source": [
        "cidade = \"SAO PAULO\"\n",
        "print (cidade, type(cidade))"
      ],
      "execution_count": null,
      "outputs": [
        {
          "name": "stdout",
          "output_type": "stream",
          "text": [
            "SAO PAULO <class 'str'>\n"
          ]
        }
      ]
    },
    {
      "cell_type": "code",
      "metadata": {
        "id": "jc2WdXfDer7C",
        "outputId": "d8b1186b-cf0e-4ed4-eef5-f532b6d6224b"
      },
      "source": [
        "cidade = 'SAO PAULO'\n",
        "print (cidade, type(cidade))"
      ],
      "execution_count": null,
      "outputs": [
        {
          "name": "stdout",
          "output_type": "stream",
          "text": [
            "SAO PAULO <class 'str'>\n"
          ]
        }
      ]
    },
    {
      "cell_type": "code",
      "metadata": {
        "id": "Gk4J1rrWer7E"
      },
      "source": [
        "disponivel = True\n",
        "print(disponivel)"
      ],
      "execution_count": null,
      "outputs": []
    }
  ]
}