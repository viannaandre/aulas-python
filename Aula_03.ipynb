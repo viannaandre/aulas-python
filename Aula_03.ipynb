{
  "nbformat": 4,
  "nbformat_minor": 0,
  "metadata": {
    "kernelspec": {
      "display_name": "Python 3",
      "language": "python",
      "name": "python3"
    },
    "language_info": {
      "codemirror_mode": {
        "name": "ipython",
        "version": 3
      },
      "file_extension": ".py",
      "mimetype": "text/x-python",
      "name": "python",
      "nbconvert_exporter": "python",
      "pygments_lexer": "ipython3",
      "version": "3.9.0"
    },
    "colab": {
      "name": "Aula 03.ipynb",
      "provenance": [],
      "include_colab_link": true
    }
  },
  "cells": [
    {
      "cell_type": "markdown",
      "metadata": {
        "id": "view-in-github",
        "colab_type": "text"
      },
      "source": [
        "<a href=\"https://colab.research.google.com/github/viannaandre/aulas-python/blob/1_Basics/Aula_03.ipynb\" target=\"_parent\"><img src=\"https://colab.research.google.com/assets/colab-badge.svg\" alt=\"Open In Colab\"/></a>"
      ]
    },
    {
      "cell_type": "code",
      "metadata": {
        "id": "G-B6ybm3dXOJ"
      },
      "source": [
        "x = 50\n",
        "y = 2"
      ],
      "execution_count": null,
      "outputs": []
    },
    {
      "cell_type": "code",
      "metadata": {
        "id": "z0QA-zaHdXON",
        "outputId": "a834fe36-d155-4ae9-b77e-893969bd4a87"
      },
      "source": [
        "print (x + y)\n",
        "print (x - y)\n",
        "print (x * y)\n",
        "print (x / y)"
      ],
      "execution_count": null,
      "outputs": [
        {
          "name": "stdout",
          "output_type": "stream",
          "text": [
            "52\n",
            "48\n",
            "100\n",
            "25.0\n"
          ]
        }
      ]
    },
    {
      "cell_type": "code",
      "metadata": {
        "id": "k0-3eePYdXOO",
        "outputId": "df5934e9-318e-4815-8e2f-859ab67c985e"
      },
      "source": [
        "print (x ** y) ## exponenciaçao\n",
        "print (x // y) ## divisao inteira - ignora a parte decimal\n",
        "print (x % y)  ## resto da divisao"
      ],
      "execution_count": null,
      "outputs": [
        {
          "name": "stdout",
          "output_type": "stream",
          "text": [
            "2500\n",
            "25\n",
            "0\n"
          ]
        }
      ]
    },
    {
      "cell_type": "code",
      "metadata": {
        "id": "bKz_UlXedXOP",
        "outputId": "61c08e9e-7847-483f-ebc5-052f21758d4d"
      },
      "source": [
        "print (3 / 4) ## divisao normal\n",
        "print (3 // 4) ## divisao inteira"
      ],
      "execution_count": null,
      "outputs": [
        {
          "name": "stdout",
          "output_type": "stream",
          "text": [
            "0.75\n",
            "0\n"
          ]
        }
      ]
    },
    {
      "cell_type": "code",
      "metadata": {
        "id": "oa8VobbGdXOP"
      },
      "source": [
        "tem_cafe = True\n",
        "tem_pao = False"
      ],
      "execution_count": null,
      "outputs": []
    },
    {
      "cell_type": "code",
      "metadata": {
        "id": "ui3-G5qGdXOQ",
        "outputId": "4d8a035c-82fd-4cd1-dbe6-bd434f824970"
      },
      "source": [
        "print(not tem_cafe)\n",
        "print(tem_cafe or tem_pao)\n",
        "print(tem_cafe and tem_pao)"
      ],
      "execution_count": null,
      "outputs": [
        {
          "name": "stdout",
          "output_type": "stream",
          "text": [
            "False\n",
            "True\n",
            "False\n"
          ]
        }
      ]
    },
    {
      "cell_type": "code",
      "metadata": {
        "id": "PXbFynBLdXOQ"
      },
      "source": [
        "dolar = 5.3\n",
        "real = 1"
      ],
      "execution_count": null,
      "outputs": []
    },
    {
      "cell_type": "code",
      "metadata": {
        "id": "NaLKvl82dXOR",
        "outputId": "02df5cbc-aaa8-49fe-d8dc-3743ba22b80b"
      },
      "source": [
        "print(dolar > real)\n",
        "print(dolar < real)\n",
        "print(dolar == real)\n",
        "print(dolar >= real)\n",
        "print(dolar <= real)\n",
        "print(dolar != real)"
      ],
      "execution_count": null,
      "outputs": [
        {
          "name": "stdout",
          "output_type": "stream",
          "text": [
            "True\n",
            "False\n",
            "False\n",
            "True\n",
            "False\n",
            "True\n"
          ]
        }
      ]
    },
    {
      "cell_type": "code",
      "metadata": {
        "id": "tuOjwiU3dXOS"
      },
      "source": [
        ""
      ],
      "execution_count": null,
      "outputs": []
    }
  ]
}