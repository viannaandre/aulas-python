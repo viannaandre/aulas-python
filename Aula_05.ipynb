{
  "nbformat": 4,
  "nbformat_minor": 0,
  "metadata": {
    "kernelspec": {
      "display_name": "Python 3",
      "language": "python",
      "name": "python3"
    },
    "language_info": {
      "codemirror_mode": {
        "name": "ipython",
        "version": 3
      },
      "file_extension": ".py",
      "mimetype": "text/x-python",
      "name": "python",
      "nbconvert_exporter": "python",
      "pygments_lexer": "ipython3",
      "version": "3.9.0"
    },
    "colab": {
      "name": "Aula 05.ipynb",
      "provenance": [],
      "include_colab_link": true
    }
  },
  "cells": [
    {
      "cell_type": "markdown",
      "metadata": {
        "id": "view-in-github",
        "colab_type": "text"
      },
      "source": [
        "<a href=\"https://colab.research.google.com/github/viannaandre/aulas-python/blob/1_Basics/Aula_05.ipynb\" target=\"_parent\"><img src=\"https://colab.research.google.com/assets/colab-badge.svg\" alt=\"Open In Colab\"/></a>"
      ]
    },
    {
      "cell_type": "code",
      "metadata": {
        "id": "lKVuhxs5ehqb",
        "outputId": "818a57ff-a9b3-482d-e7f7-8f5a793d4b00"
      },
      "source": [
        "valor_passagem = 4.30\n",
        "\n",
        "valor_corrida = input('Qual é o valor da corrida?')\n",
        "\n",
        "if float(valor_corrida) <= valor_passagem * 5:\n",
        "    print('Pague a corrida')\n",
        "if float(valor_corrida) > valor_passagem * 5:\n",
        "    print('Pegue o ônibus') \n",
        "    \n",
        "    "
      ],
      "execution_count": null,
      "outputs": [
        {
          "name": "stdout",
          "output_type": "stream",
          "text": [
            "Qual é o valor da corrida?4.25\n",
            "Pague a corrida\n"
          ]
        }
      ]
    },
    {
      "cell_type": "code",
      "metadata": {
        "id": "2s6d4FNYehqk"
      },
      "source": [
        ""
      ],
      "execution_count": null,
      "outputs": []
    },
    {
      "cell_type": "code",
      "metadata": {
        "id": "Gvm9yEN1ehql",
        "outputId": "a4f19ec9-7a47-420f-fe12-acc9f4fc9a4c"
      },
      "source": [
        "valor_passagem = 4.30\n",
        "\n",
        "valor_corrida = input('Qual é o valor da corrida?')\n",
        "\n",
        "if float(valor_corrida) <= valor_passagem * 5:\n",
        "    print('Pague a corrida')\n",
        "else:\n",
        "    print('Pegue o ônibus') "
      ],
      "execution_count": null,
      "outputs": [
        {
          "name": "stdout",
          "output_type": "stream",
          "text": [
            "Qual é o valor da corrida?17\n",
            "Pague a corrida\n"
          ]
        }
      ]
    },
    {
      "cell_type": "code",
      "metadata": {
        "id": "ZF7rBqXrehqm",
        "outputId": "ee3fe339-af23-435d-eb1d-67c1e4606bc8"
      },
      "source": [
        "valor_passagem = 4.30\n",
        "\n",
        "valor_corrida = input('Qual é o valor da corrida? ')\n",
        "\n",
        "if float(valor_corrida) <= valor_passagem * 5:\n",
        "    print('Pague a corrida')\n",
        "else:\n",
        "    if float(valor_corrida) <= valor_passagem * 6:\n",
        "        print('Aguarde um momento, o valor pode abaixar')\n",
        "    else:\n",
        "        print('Pegue o ônibus') "
      ],
      "execution_count": null,
      "outputs": [
        {
          "name": "stdout",
          "output_type": "stream",
          "text": [
            "Qual é o valor da corrida? 35\n",
            "Pegue o ônibus\n"
          ]
        }
      ]
    },
    {
      "cell_type": "code",
      "metadata": {
        "id": "aNSaO8AVehqn",
        "outputId": "9d85f422-2bab-4622-e124-36f4916a3438"
      },
      "source": [
        "valor_passagem = 4.30\n",
        "\n",
        "valor_corrida = input('Qual é o valor da corrida? ')\n",
        "\n",
        "if float(valor_corrida) <= valor_passagem * 5:\n",
        "    print('Pague a corrida')\n",
        "elif float(valor_corrida) <= valor_passagem * 6:\n",
        "    print('Aguarde um momento, o valor pode abaixar')\n",
        "else:\n",
        "    print('Pegue o ônibus') "
      ],
      "execution_count": null,
      "outputs": [
        {
          "name": "stdout",
          "output_type": "stream",
          "text": [
            "Qual é o valor da corrida? 35\n",
            "Pegue o ônibus\n"
          ]
        }
      ]
    },
    {
      "cell_type": "code",
      "metadata": {
        "id": "68ztI60Nehqo"
      },
      "source": [
        ""
      ],
      "execution_count": null,
      "outputs": []
    }
  ]
}