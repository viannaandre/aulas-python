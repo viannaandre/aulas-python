{
  "nbformat": 4,
  "nbformat_minor": 0,
  "metadata": {
    "kernelspec": {
      "display_name": "Python 3",
      "language": "python",
      "name": "python3"
    },
    "language_info": {
      "codemirror_mode": {
        "name": "ipython",
        "version": 3
      },
      "file_extension": ".py",
      "mimetype": "text/x-python",
      "name": "python",
      "nbconvert_exporter": "python",
      "pygments_lexer": "ipython3",
      "version": "3.9.0"
    },
    "colab": {
      "name": "Aula 05.ipynb",
      "provenance": [],
      "include_colab_link": true
    }
  },
  "cells": [
    {
      "cell_type": "markdown",
      "metadata": {
        "id": "view-in-github",
        "colab_type": "text"
      },
      "source": [
        "<a href=\"https://colab.research.google.com/github/viannaandre/aulas-python/blob/main/Aula_05.ipynb\" target=\"_parent\"><img src=\"https://colab.research.google.com/assets/colab-badge.svg\" alt=\"Open In Colab\"/></a>"
      ]
    },
    {
      "cell_type": "code",
      "metadata": {
        "id": "HUdjObXidpbO",
        "outputId": "a99f17e3-ef0a-4e60-d9cd-4c078f036606"
      },
      "source": [
        "valor_passagem = 4.30\n",
        "\n",
        "valor_corrida = input('Qual é o valor da corrida?')\n",
        "\n",
        "if float(valor_corrida) <= valor_passagem * 5:\n",
        "    print('Pague a corrida')\n",
        "if float(valor_corrida) > valor_passagem * 5:\n",
        "    print('Pegue o ônibus') \n",
        "    \n",
        "    "
      ],
      "execution_count": null,
      "outputs": [
        {
          "name": "stdout",
          "output_type": "stream",
          "text": [
            "Qual é o valor da corrida?4.25\n",
            "Pague a corrida\n"
          ]
        }
      ]
    },
    {
      "cell_type": "code",
      "metadata": {
        "id": "z4wTfdiydpbX"
      },
      "source": [
        ""
      ],
      "execution_count": null,
      "outputs": []
    },
    {
      "cell_type": "code",
      "metadata": {
        "id": "i3I3yzT4dpbY",
        "outputId": "33a1e9ab-096e-4b9c-ac37-d62f03af2c51"
      },
      "source": [
        "valor_passagem = 4.30\n",
        "\n",
        "valor_corrida = input('Qual é o valor da corrida?')\n",
        "\n",
        "if float(valor_corrida) <= valor_passagem * 5:\n",
        "    print('Pague a corrida')\n",
        "else:\n",
        "    print('Pegue o ônibus') "
      ],
      "execution_count": null,
      "outputs": [
        {
          "name": "stdout",
          "output_type": "stream",
          "text": [
            "Qual é o valor da corrida?17\n",
            "Pague a corrida\n"
          ]
        }
      ]
    },
    {
      "cell_type": "code",
      "metadata": {
        "id": "evvt18yjdpbZ",
        "outputId": "ae535ff6-eb82-4559-a3cf-e996ffd860fb"
      },
      "source": [
        "valor_passagem = 4.30\n",
        "\n",
        "valor_corrida = input('Qual é o valor da corrida? ')\n",
        "\n",
        "if float(valor_corrida) <= valor_passagem * 5:\n",
        "    print('Pague a corrida')\n",
        "else:\n",
        "    if float(valor_corrida) <= valor_passagem * 6:\n",
        "        print('Aguarde um momento, o valor pode abaixar')\n",
        "    else:\n",
        "        print('Pegue o ônibus') "
      ],
      "execution_count": null,
      "outputs": [
        {
          "name": "stdout",
          "output_type": "stream",
          "text": [
            "Qual é o valor da corrida? 35\n",
            "Pegue o ônibus\n"
          ]
        }
      ]
    },
    {
      "cell_type": "code",
      "metadata": {
        "id": "yC7hAmmZdpba",
        "outputId": "0f0a05e1-e711-4f05-d9fa-2b969f65050d"
      },
      "source": [
        "valor_passagem = 4.30\n",
        "\n",
        "valor_corrida = input('Qual é o valor da corrida? ')\n",
        "\n",
        "if float(valor_corrida) <= valor_passagem * 5:\n",
        "    print('Pague a corrida')\n",
        "elif float(valor_corrida) <= valor_passagem * 6:\n",
        "    print('Aguarde um momento, o valor pode abaixar')\n",
        "else:\n",
        "    print('Pegue o ônibus') "
      ],
      "execution_count": null,
      "outputs": [
        {
          "name": "stdout",
          "output_type": "stream",
          "text": [
            "Qual é o valor da corrida? 35\n",
            "Pegue o ônibus\n"
          ]
        }
      ]
    },
    {
      "cell_type": "code",
      "metadata": {
        "id": "pvvddf-idpbb"
      },
      "source": [
        ""
      ],
      "execution_count": null,
      "outputs": []
    }
  ]
}